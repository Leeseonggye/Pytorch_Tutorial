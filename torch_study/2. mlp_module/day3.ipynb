{
 "cells": [
  {
   "cell_type": "code",
   "execution_count": 1,
   "metadata": {},
   "outputs": [],
   "source": [
    "# Library\n",
    "import torch\n",
    "import numpy as np\n",
    "import matplotlib as plt\n",
    "import torch.nn as nn\n",
    "import torch.nn.functional as F\n",
    "from torchvision import transforms, datasets"
   ]
  },
  {
   "cell_type": "code",
   "execution_count": 2,
   "metadata": {},
   "outputs": [
    {
     "name": "stdout",
     "output_type": "stream",
     "text": [
      "cuda\n"
     ]
    }
   ],
   "source": [
    "# device 설정\n",
    "if torch.cuda.is_available():\n",
    "    DEVICE = torch.device('cuda')\n",
    "else:\n",
    "    DEVICE = torch.device('cpu')\n",
    "\n",
    "print(DEVICE)"
   ]
  },
  {
   "cell_type": "code",
   "execution_count": 3,
   "metadata": {},
   "outputs": [],
   "source": [
    "# Hyperparameter setting\n",
    "batch_size = 32\n",
    "epochs = 10"
   ]
  },
  {
   "cell_type": "code",
   "execution_count": 4,
   "metadata": {},
   "outputs": [],
   "source": [
    "# MNIST DATA LOAD\n",
    "train_dataset = datasets.MNIST(root=\"../data/MNIST\", train = True, download=True, transform=transforms.ToTensor())\n",
    "test_dataset = datasets.MNIST(root=\"../data/MNIST\", train = False, transform=transforms.ToTensor())\n",
    "train_loader = torch.utils.data.DataLoader(dataset = train_dataset, batch_size=batch_size, shuffle = True)\n",
    "test_loader = torch.utils.data.DataLoader(dataset = test_dataset, batch_size=batch_size, shuffle = True)"
   ]
  },
  {
   "cell_type": "code",
   "execution_count": 5,
   "metadata": {},
   "outputs": [],
   "source": [
    "# MLP 모듈 설계 + Dropout\n",
    "\n",
    "class Net(nn.Module):\n",
    "    def __init__(self):\n",
    "        super(Net,self).__init__()\n",
    "        self.fc1 = nn.Linear(28*28 , 512)\n",
    "        self.fc2 = nn.Linear(512 , 256)\n",
    "        self.fc3 = nn.Linear(256 , 10)\n",
    "        self.dropout_prob = 0.5\n",
    "    \n",
    "    def forward(self, x):\n",
    "        x = x.view(-1, 28*28) # flatten 느낌\n",
    "        x = self.fc1(x)\n",
    "        x = F.sigmoid(x)\n",
    "        x = F.dropout(x, training=self.training, p = self.dropout_prob)\n",
    "        x = self.fc2(x)\n",
    "        x = F.sigmoid(x)\n",
    "        x = F.dropout(x, training=self.training, p = self.dropout_prob)\n",
    "        x = self.fc3(x)\n",
    "        x = F.log_softmax(x, dim=1)\n",
    "        return x"
   ]
  },
  {
   "cell_type": "code",
   "execution_count": 6,
   "metadata": {},
   "outputs": [
    {
     "name": "stdout",
     "output_type": "stream",
     "text": [
      "Net(\n",
      "  (fc1): Linear(in_features=784, out_features=512, bias=True)\n",
      "  (fc2): Linear(in_features=512, out_features=256, bias=True)\n",
      "  (fc3): Linear(in_features=256, out_features=10, bias=True)\n",
      ")\n"
     ]
    }
   ],
   "source": [
    "# optimizer, obj function 설정\n",
    "model = Net().to(DEVICE)\n",
    "optimizer = torch.optim.SGD(model.parameters(), lr = 0.01, momentum=0.5)\n",
    "criterian = nn.CrossEntropyLoss()\n",
    "print(model)"
   ]
  },
  {
   "cell_type": "code",
   "execution_count": 7,
   "metadata": {},
   "outputs": [],
   "source": [
    "# 학습 데이터에 대한 model 성능 확인 함수 정의\n",
    "def train(model, train_loader, optimizer, log_interval):\n",
    "    model.train()\n",
    "    for batch_idx, (image, label) in enumerate(train_loader):\n",
    "        image = image.to(DEVICE)\n",
    "        label = label.to(DEVICE)\n",
    "        optimizer.zero_grad()\n",
    "        output = model(image)\n",
    "        loss = criterian(output,label)\n",
    "        loss.backward()\n",
    "        optimizer.step()\n",
    "\n",
    "        if batch_idx % log_interval == 0:\n",
    "            print(\"Train_epoch : {} [{}/{}({:.0f}%)] \\tTrain Loss : {:.6f}\".format(epochs, batch_idx*len(image),len(train_loader.dataset), 100*batch_idx/len(train_loader), loss.item()))"
   ]
  },
  {
   "cell_type": "code",
   "execution_count": 8,
   "metadata": {},
   "outputs": [],
   "source": [
    "# 검증 데이터에 대한 모델 성능 확인하는 함수 정의\n",
    "def evaluate(model, test_loader):\n",
    "    model.eval()\n",
    "    test_loss = 0\n",
    "    correct = 0\n",
    "    with torch.no_grad():\n",
    "        for image, label in test_loader:\n",
    "            image = image.to(DEVICE)\n",
    "            label = label.to(DEVICE)\n",
    "            output = model(image)\n",
    "            test_loss += criterian(output,label).item()\n",
    "            prediction = output.max(1, keepdim = True)[1]\n",
    "            correct +=prediction.eq(label.view_as(prediction)).sum().item() \n",
    "\n",
    "    test_loss /= len(test_loader.dataset)\n",
    "    test_accuracy = 100 * correct / len(test_loader.dataset)\n",
    "    return test_loss, test_accuracy\n"
   ]
  },
  {
   "cell_type": "code",
   "execution_count": 9,
   "metadata": {},
   "outputs": [
    {
     "name": "stderr",
     "output_type": "stream",
     "text": [
      "/home/seonggye/anaconda3/lib/python3.7/site-packages/torch/nn/functional.py:1960: UserWarning: nn.functional.sigmoid is deprecated. Use torch.sigmoid instead.\n",
      "  warnings.warn(\"nn.functional.sigmoid is deprecated. Use torch.sigmoid instead.\")\n"
     ]
    },
    {
     "name": "stdout",
     "output_type": "stream",
     "text": [
      "Train_epoch : 10 [0/60000(0%)] \tTrain Loss : 2.433305\n",
      "Train_epoch : 10 [6400/60000(11%)] \tTrain Loss : 2.369272\n",
      "Train_epoch : 10 [12800/60000(21%)] \tTrain Loss : 2.375231\n",
      "Train_epoch : 10 [19200/60000(32%)] \tTrain Loss : 2.434787\n",
      "Train_epoch : 10 [25600/60000(43%)] \tTrain Loss : 2.324700\n",
      "Train_epoch : 10 [32000/60000(53%)] \tTrain Loss : 2.314241\n",
      "Train_epoch : 10 [38400/60000(64%)] \tTrain Loss : 2.196862\n",
      "Train_epoch : 10 [44800/60000(75%)] \tTrain Loss : 2.297035\n",
      "Train_epoch : 10 [51200/60000(85%)] \tTrain Loss : 2.359604\n",
      "Train_epoch : 10 [57600/60000(96%)] \tTrain Loss : 2.265689\n",
      "\n",
      "[Epoch: 1], \tTest loss: 0.0712, \tTest acc : 20.01\n",
      "Train_epoch : 10 [0/60000(0%)] \tTrain Loss : 2.344600\n",
      "Train_epoch : 10 [6400/60000(11%)] \tTrain Loss : 2.311766\n",
      "Train_epoch : 10 [12800/60000(21%)] \tTrain Loss : 2.251694\n",
      "Train_epoch : 10 [19200/60000(32%)] \tTrain Loss : 2.308923\n",
      "Train_epoch : 10 [25600/60000(43%)] \tTrain Loss : 2.231268\n",
      "Train_epoch : 10 [32000/60000(53%)] \tTrain Loss : 2.208254\n",
      "Train_epoch : 10 [38400/60000(64%)] \tTrain Loss : 2.234655\n",
      "Train_epoch : 10 [44800/60000(75%)] \tTrain Loss : 2.191666\n",
      "Train_epoch : 10 [51200/60000(85%)] \tTrain Loss : 1.984759\n",
      "Train_epoch : 10 [57600/60000(96%)] \tTrain Loss : 2.169527\n",
      "\n",
      "[Epoch: 2], \tTest loss: 0.0630, \tTest acc : 41.27\n",
      "Train_epoch : 10 [0/60000(0%)] \tTrain Loss : 2.169624\n",
      "Train_epoch : 10 [6400/60000(11%)] \tTrain Loss : 2.090416\n",
      "Train_epoch : 10 [12800/60000(21%)] \tTrain Loss : 1.992674\n",
      "Train_epoch : 10 [19200/60000(32%)] \tTrain Loss : 1.708747\n",
      "Train_epoch : 10 [25600/60000(43%)] \tTrain Loss : 1.536227\n",
      "Train_epoch : 10 [32000/60000(53%)] \tTrain Loss : 1.743643\n",
      "Train_epoch : 10 [38400/60000(64%)] \tTrain Loss : 1.542331\n",
      "Train_epoch : 10 [44800/60000(75%)] \tTrain Loss : 1.454046\n",
      "Train_epoch : 10 [51200/60000(85%)] \tTrain Loss : 1.551566\n",
      "Train_epoch : 10 [57600/60000(96%)] \tTrain Loss : 1.355434\n",
      "\n",
      "[Epoch: 3], \tTest loss: 0.0366, \tTest acc : 62.23\n",
      "Train_epoch : 10 [0/60000(0%)] \tTrain Loss : 1.457951\n",
      "Train_epoch : 10 [6400/60000(11%)] \tTrain Loss : 1.220931\n",
      "Train_epoch : 10 [12800/60000(21%)] \tTrain Loss : 1.267900\n",
      "Train_epoch : 10 [19200/60000(32%)] \tTrain Loss : 1.072523\n",
      "Train_epoch : 10 [25600/60000(43%)] \tTrain Loss : 1.237157\n",
      "Train_epoch : 10 [32000/60000(53%)] \tTrain Loss : 1.094329\n",
      "Train_epoch : 10 [38400/60000(64%)] \tTrain Loss : 0.967438\n",
      "Train_epoch : 10 [44800/60000(75%)] \tTrain Loss : 1.059442\n",
      "Train_epoch : 10 [51200/60000(85%)] \tTrain Loss : 0.998540\n",
      "Train_epoch : 10 [57600/60000(96%)] \tTrain Loss : 0.999758\n",
      "\n",
      "[Epoch: 4], \tTest loss: 0.0275, \tTest acc : 71.85\n",
      "Train_epoch : 10 [0/60000(0%)] \tTrain Loss : 0.955360\n",
      "Train_epoch : 10 [6400/60000(11%)] \tTrain Loss : 1.248157\n",
      "Train_epoch : 10 [12800/60000(21%)] \tTrain Loss : 1.383145\n",
      "Train_epoch : 10 [19200/60000(32%)] \tTrain Loss : 0.823748\n",
      "Train_epoch : 10 [25600/60000(43%)] \tTrain Loss : 1.134622\n",
      "Train_epoch : 10 [32000/60000(53%)] \tTrain Loss : 0.808201\n",
      "Train_epoch : 10 [38400/60000(64%)] \tTrain Loss : 0.781594\n",
      "Train_epoch : 10 [44800/60000(75%)] \tTrain Loss : 0.643097\n",
      "Train_epoch : 10 [51200/60000(85%)] \tTrain Loss : 0.782083\n",
      "Train_epoch : 10 [57600/60000(96%)] \tTrain Loss : 0.924809\n",
      "\n",
      "[Epoch: 5], \tTest loss: 0.0238, \tTest acc : 75.84\n",
      "Train_epoch : 10 [0/60000(0%)] \tTrain Loss : 0.904462\n",
      "Train_epoch : 10 [6400/60000(11%)] \tTrain Loss : 0.607671\n",
      "Train_epoch : 10 [12800/60000(21%)] \tTrain Loss : 0.678737\n",
      "Train_epoch : 10 [19200/60000(32%)] \tTrain Loss : 1.328123\n",
      "Train_epoch : 10 [25600/60000(43%)] \tTrain Loss : 0.855620\n",
      "Train_epoch : 10 [32000/60000(53%)] \tTrain Loss : 1.279698\n",
      "Train_epoch : 10 [38400/60000(64%)] \tTrain Loss : 0.823355\n",
      "Train_epoch : 10 [44800/60000(75%)] \tTrain Loss : 0.848526\n",
      "Train_epoch : 10 [51200/60000(85%)] \tTrain Loss : 0.825638\n",
      "Train_epoch : 10 [57600/60000(96%)] \tTrain Loss : 0.805264\n",
      "\n",
      "[Epoch: 6], \tTest loss: 0.0209, \tTest acc : 79.86\n",
      "Train_epoch : 10 [0/60000(0%)] \tTrain Loss : 0.683783\n",
      "Train_epoch : 10 [6400/60000(11%)] \tTrain Loss : 0.926072\n",
      "Train_epoch : 10 [12800/60000(21%)] \tTrain Loss : 0.725621\n",
      "Train_epoch : 10 [19200/60000(32%)] \tTrain Loss : 0.872660\n",
      "Train_epoch : 10 [25600/60000(43%)] \tTrain Loss : 0.624257\n",
      "Train_epoch : 10 [32000/60000(53%)] \tTrain Loss : 0.697583\n",
      "Train_epoch : 10 [38400/60000(64%)] \tTrain Loss : 1.155090\n",
      "Train_epoch : 10 [44800/60000(75%)] \tTrain Loss : 0.677534\n",
      "Train_epoch : 10 [51200/60000(85%)] \tTrain Loss : 0.598331\n",
      "Train_epoch : 10 [57600/60000(96%)] \tTrain Loss : 0.997629\n",
      "\n",
      "[Epoch: 7], \tTest loss: 0.0185, \tTest acc : 82.42\n",
      "Train_epoch : 10 [0/60000(0%)] \tTrain Loss : 0.592697\n",
      "Train_epoch : 10 [6400/60000(11%)] \tTrain Loss : 1.261726\n",
      "Train_epoch : 10 [12800/60000(21%)] \tTrain Loss : 0.591408\n",
      "Train_epoch : 10 [19200/60000(32%)] \tTrain Loss : 0.823834\n",
      "Train_epoch : 10 [25600/60000(43%)] \tTrain Loss : 0.791967\n",
      "Train_epoch : 10 [32000/60000(53%)] \tTrain Loss : 0.405610\n",
      "Train_epoch : 10 [38400/60000(64%)] \tTrain Loss : 0.300897\n",
      "Train_epoch : 10 [44800/60000(75%)] \tTrain Loss : 0.575926\n",
      "Train_epoch : 10 [51200/60000(85%)] \tTrain Loss : 0.774401\n",
      "Train_epoch : 10 [57600/60000(96%)] \tTrain Loss : 0.600780\n",
      "\n",
      "[Epoch: 8], \tTest loss: 0.0166, \tTest acc : 84.31\n",
      "Train_epoch : 10 [0/60000(0%)] \tTrain Loss : 0.508222\n",
      "Train_epoch : 10 [6400/60000(11%)] \tTrain Loss : 0.525140\n",
      "Train_epoch : 10 [12800/60000(21%)] \tTrain Loss : 0.421742\n",
      "Train_epoch : 10 [19200/60000(32%)] \tTrain Loss : 0.392530\n",
      "Train_epoch : 10 [25600/60000(43%)] \tTrain Loss : 0.920744\n",
      "Train_epoch : 10 [32000/60000(53%)] \tTrain Loss : 0.796317\n",
      "Train_epoch : 10 [38400/60000(64%)] \tTrain Loss : 0.583216\n",
      "Train_epoch : 10 [44800/60000(75%)] \tTrain Loss : 0.697370\n",
      "Train_epoch : 10 [51200/60000(85%)] \tTrain Loss : 0.723601\n",
      "Train_epoch : 10 [57600/60000(96%)] \tTrain Loss : 0.470096\n",
      "\n",
      "[Epoch: 9], \tTest loss: 0.0153, \tTest acc : 85.51\n",
      "Train_epoch : 10 [0/60000(0%)] \tTrain Loss : 0.778596\n",
      "Train_epoch : 10 [6400/60000(11%)] \tTrain Loss : 0.835966\n",
      "Train_epoch : 10 [12800/60000(21%)] \tTrain Loss : 0.676248\n",
      "Train_epoch : 10 [19200/60000(32%)] \tTrain Loss : 0.707318\n",
      "Train_epoch : 10 [25600/60000(43%)] \tTrain Loss : 0.526422\n",
      "Train_epoch : 10 [32000/60000(53%)] \tTrain Loss : 0.432554\n",
      "Train_epoch : 10 [38400/60000(64%)] \tTrain Loss : 0.746370\n",
      "Train_epoch : 10 [44800/60000(75%)] \tTrain Loss : 0.557167\n",
      "Train_epoch : 10 [51200/60000(85%)] \tTrain Loss : 0.639115\n",
      "Train_epoch : 10 [57600/60000(96%)] \tTrain Loss : 0.604153\n",
      "\n",
      "[Epoch: 10], \tTest loss: 0.0142, \tTest acc : 86.52\n"
     ]
    }
   ],
   "source": [
    "# Train, Test 진행\n",
    "for epoch in range(1, epochs+1):\n",
    "    train(model, train_loader, optimizer, log_interval = 200)\n",
    "    test_loss, test_accuracy = evaluate(model, test_loader)\n",
    "    print(\"\\n[Epoch: {}], \\tTest loss: {:.4f}, \\tTest acc : {:.2f}\".format(epoch, test_loss, test_accuracy))"
   ]
  },
  {
   "cell_type": "code",
   "execution_count": null,
   "metadata": {},
   "outputs": [],
   "source": [
    "# MLP 모듈 설계 + Dropout + batch normalizeation\n",
    "\n",
    "class Net(nn.Module):\n",
    "    def __init__(self):\n",
    "        super(Net,self).__init__()\n",
    "        self.fc1 = nn.Linear(28*28 , 512)\n",
    "        self.fc2 = nn.Linear(512 , 256)\n",
    "        self.fc3 = nn.Linear(256 , 10)\n",
    "        self.dropout_prob = 0.5\n",
    "        self.batch_norm1 = nn.BatchNorm1d(512)\n",
    "        self.batch_norm1 = nn.BatchNorm1d(256)\n",
    "    \n",
    "    def forward(self, x):\n",
    "        x = x.view(-1, 28*28) # flatten 느낌\n",
    "        x = self.fc1(x)\n",
    "        x = self.batch_norm1(x)\n",
    "        x = F.sigmoid(x)\n",
    "        x = F.dropout(x, training=self.training, p = self.dropout_prob)\n",
    "        x = self.fc2(x)\n",
    "        x = self.batch_norm2(x)\n",
    "        x = F.sigmoid(x)\n",
    "        x = F.dropout(x, training=self.training, p = self.dropout_prob)\n",
    "        x = self.fc3(x)\n",
    "        x = F.log_softmax(x, dim=1)\n",
    "        return x"
   ]
  },
  {
   "cell_type": "code",
   "execution_count": 10,
   "metadata": {},
   "outputs": [
    {
     "data": {
      "text/plain": [
       "Net(\n",
       "  (fc1): Linear(in_features=784, out_features=512, bias=True)\n",
       "  (fc2): Linear(in_features=512, out_features=256, bias=True)\n",
       "  (fc3): Linear(in_features=256, out_features=10, bias=True)\n",
       ")"
      ]
     },
     "execution_count": 10,
     "metadata": {},
     "output_type": "execute_result"
    }
   ],
   "source": [
    "# weight initialization\n",
    "import torch.nn.init as init \n",
    "def weight_init(m):\n",
    "    if isinstance(m, nn.Linear):\n",
    "        init.kaiming_uniform_(m.weight.data)\n",
    "\n",
    "model = Net().to(DEVICE)\n",
    "model.apply(weight_init)"
   ]
  },
  {
   "cell_type": "code",
   "execution_count": null,
   "metadata": {},
   "outputs": [],
   "source": []
  }
 ],
 "metadata": {
  "kernelspec": {
   "display_name": "Python 3.7.0 ('base')",
   "language": "python",
   "name": "python3"
  },
  "language_info": {
   "codemirror_mode": {
    "name": "ipython",
    "version": 3
   },
   "file_extension": ".py",
   "mimetype": "text/x-python",
   "name": "python",
   "nbconvert_exporter": "python",
   "pygments_lexer": "ipython3",
   "version": "3.7.0"
  },
  "orig_nbformat": 4,
  "vscode": {
   "interpreter": {
    "hash": "b45ecbb8e80b355e3deef69ddcdcfb2bbb117fcb11cd7d389b99c49babd160c0"
   }
  }
 },
 "nbformat": 4,
 "nbformat_minor": 2
}
