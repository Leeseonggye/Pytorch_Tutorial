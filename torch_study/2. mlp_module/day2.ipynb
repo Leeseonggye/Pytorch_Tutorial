{
 "cells": [
  {
   "cell_type": "markdown",
   "metadata": {},
   "source": [
    "## MNILST MLP"
   ]
  },
  {
   "cell_type": "code",
   "execution_count": 1,
   "metadata": {},
   "outputs": [
    {
     "name": "stdout",
     "output_type": "stream",
     "text": [
      "Requirement already satisfied: matplotlib in /home/seonggye/anaconda3/lib/python3.7/site-packages (2.2.3)\n",
      "Requirement already satisfied: numpy>=1.7.1 in /home/seonggye/anaconda3/lib/python3.7/site-packages (from matplotlib) (1.15.1)\n",
      "Requirement already satisfied: cycler>=0.10 in /home/seonggye/anaconda3/lib/python3.7/site-packages (from matplotlib) (0.10.0)\n",
      "Requirement already satisfied: pyparsing!=2.0.4,!=2.1.2,!=2.1.6,>=2.0.1 in /home/seonggye/anaconda3/lib/python3.7/site-packages (from matplotlib) (2.2.0)\n",
      "Requirement already satisfied: python-dateutil>=2.1 in /home/seonggye/anaconda3/lib/python3.7/site-packages (from matplotlib) (2.7.3)\n",
      "Requirement already satisfied: pytz in /home/seonggye/anaconda3/lib/python3.7/site-packages (from matplotlib) (2018.5)\n",
      "Requirement already satisfied: six>=1.10 in /home/seonggye/anaconda3/lib/python3.7/site-packages (from matplotlib) (1.11.0)\n",
      "Requirement already satisfied: kiwisolver>=1.0.1 in /home/seonggye/anaconda3/lib/python3.7/site-packages (from matplotlib) (1.0.1)\n",
      "Requirement already satisfied: setuptools in /home/seonggye/anaconda3/lib/python3.7/site-packages (from kiwisolver>=1.0.1->matplotlib) (40.2.0)\n",
      "Collecting torchvision\n",
      "  Downloading torchvision-0.13.1-cp37-cp37m-manylinux1_x86_64.whl (19.1 MB)\n",
      "\u001b[2K     \u001b[90m━━━━━━━━━━━━━━━━━━━━━━━━━━━━━━━━━━━━━━━━\u001b[0m \u001b[32m19.1/19.1 MB\u001b[0m \u001b[31m39.6 MB/s\u001b[0m eta \u001b[36m0:00:00\u001b[0m00:01\u001b[0m00:01\u001b[0m\n",
      "\u001b[?25hRequirement already satisfied: requests in /home/seonggye/anaconda3/lib/python3.7/site-packages (from torchvision) (2.28.1)\n",
      "Requirement already satisfied: typing-extensions in /home/seonggye/anaconda3/lib/python3.7/site-packages (from torchvision) (4.3.0)\n",
      "Requirement already satisfied: numpy in /home/seonggye/anaconda3/lib/python3.7/site-packages (from torchvision) (1.15.1)\n",
      "Collecting pillow!=8.3.*,>=5.3.0\n",
      "  Downloading Pillow-9.2.0-cp37-cp37m-manylinux_2_17_x86_64.manylinux2014_x86_64.whl (3.1 MB)\n",
      "\u001b[2K     \u001b[90m━━━━━━━━━━━━━━━━━━━━━━━━━━━━━━━━━━━━━━━━\u001b[0m \u001b[32m3.1/3.1 MB\u001b[0m \u001b[31m46.0 MB/s\u001b[0m eta \u001b[36m0:00:00\u001b[0ma \u001b[36m0:00:01\u001b[0m\n",
      "\u001b[?25hCollecting torch==1.12.1\n",
      "  Downloading torch-1.12.1-cp37-cp37m-manylinux1_x86_64.whl (776.3 MB)\n",
      "\u001b[2K     \u001b[90m━━━━━━━━━━━━━━━━━━━━━━━━━━━━━━━━━━━━━━━\u001b[0m \u001b[32m776.3/776.3 MB\u001b[0m \u001b[31m4.3 MB/s\u001b[0m eta \u001b[36m0:00:00\u001b[0m00:01\u001b[0m00:01\u001b[0m\n",
      "\u001b[?25hRequirement already satisfied: charset-normalizer<3,>=2 in /home/seonggye/anaconda3/lib/python3.7/site-packages (from requests->torchvision) (2.1.0)\n",
      "Requirement already satisfied: urllib3<1.27,>=1.21.1 in /home/seonggye/anaconda3/lib/python3.7/site-packages (from requests->torchvision) (1.26.11)\n",
      "Requirement already satisfied: certifi>=2017.4.17 in /home/seonggye/anaconda3/lib/python3.7/site-packages (from requests->torchvision) (2018.8.24)\n",
      "Requirement already satisfied: idna<4,>=2.5 in /home/seonggye/anaconda3/lib/python3.7/site-packages (from requests->torchvision) (2.7)\n",
      "Installing collected packages: torch, pillow, torchvision\n",
      "  Attempting uninstall: pillow\n",
      "    Found existing installation: Pillow 5.2.0\n",
      "    Uninstalling Pillow-5.2.0:\n",
      "      Successfully uninstalled Pillow-5.2.0\n",
      "Successfully installed pillow-9.2.0 torch-1.12.1 torchvision-0.13.1\n"
     ]
    }
   ],
   "source": [
    "!pip install matplotlib\n",
    "!pip install torchvision"
   ]
  },
  {
   "cell_type": "code",
   "execution_count": 2,
   "metadata": {},
   "outputs": [],
   "source": [
    "# Library\n",
    "import torch\n",
    "import numpy as np\n",
    "import matplotlib as plt\n",
    "import torch.nn as nn\n",
    "import torch.nn.functional as F\n",
    "from torchvision import transforms, datasets"
   ]
  },
  {
   "cell_type": "code",
   "execution_count": 4,
   "metadata": {},
   "outputs": [
    {
     "name": "stdout",
     "output_type": "stream",
     "text": [
      "cuda\n"
     ]
    }
   ],
   "source": [
    "# device 설정\n",
    "if torch.cuda.is_available():\n",
    "    DEVICE = torch.device('cuda')\n",
    "else:\n",
    "    DEVICE = torch.device('cpu')\n",
    "\n",
    "print(DEVICE)"
   ]
  },
  {
   "cell_type": "code",
   "execution_count": 5,
   "metadata": {},
   "outputs": [],
   "source": [
    "# Hyperparameter setting\n",
    "batch_size = 32\n",
    "epochs = 10"
   ]
  },
  {
   "cell_type": "code",
   "execution_count": 8,
   "metadata": {},
   "outputs": [],
   "source": [
    "# MNIST DATA LOAD\n",
    "train_dataset = datasets.MNIST(root=\"../data/MNIST\", train = True, download=True, transform=transforms.ToTensor())\n",
    "test_dataset = datasets.MNIST(root=\"../data/MNIST\", train = False, transform=transforms.ToTensor())\n",
    "train_loader = torch.utils.data.DataLoader(dataset = train_dataset, batch_size=batch_size, shuffle = True)\n",
    "test_loader = torch.utils.data.DataLoader(dataset = test_dataset, batch_size=batch_size, shuffle = True)"
   ]
  },
  {
   "cell_type": "code",
   "execution_count": 9,
   "metadata": {},
   "outputs": [
    {
     "name": "stdout",
     "output_type": "stream",
     "text": [
      "X_train size: torch.Size([32, 1, 28, 28]) type: torch.FloatTensor\n",
      "y_train size: torch.Size([32]) type: torch.LongTensor\n"
     ]
    }
   ],
   "source": [
    "# Dataset 확인\n",
    "for (X_train, y_train) in train_loader:\n",
    "    print('X_train size:',X_train.size(), 'type:', X_train.type())\n",
    "    print('y_train size:',y_train.size(), 'type:', y_train.type())\n",
    "    break"
   ]
  },
  {
   "cell_type": "code",
   "execution_count": 14,
   "metadata": {},
   "outputs": [],
   "source": [
    "# MLP 모듈 설계\n",
    "\n",
    "class Net(nn.Module):\n",
    "    def __init__(self):\n",
    "        super(Net,self).__init__()\n",
    "        self.fc1 = nn.Linear(28*28 , 512)\n",
    "        self.fc2 = nn.Linear(512 , 256)\n",
    "        self.fc3 = nn.Linear(256 , 10)\n",
    "    \n",
    "    def forward(self, x):\n",
    "        x = x.view(-1, 28*28) # flatten 느낌\n",
    "        x = self.fc1(x)\n",
    "        x = F.sigmoid(x)\n",
    "        x = self.fc2(x)\n",
    "        x = F.sigmoid(x)\n",
    "        x = self.fc3(x)\n",
    "        x = F.log_softmax(x, dim=1)\n",
    "        return x"
   ]
  },
  {
   "cell_type": "code",
   "execution_count": 15,
   "metadata": {},
   "outputs": [
    {
     "name": "stdout",
     "output_type": "stream",
     "text": [
      "Net(\n",
      "  (fc1): Linear(in_features=784, out_features=512, bias=True)\n",
      "  (fc2): Linear(in_features=512, out_features=256, bias=True)\n",
      "  (fc3): Linear(in_features=256, out_features=10, bias=True)\n",
      ")\n"
     ]
    }
   ],
   "source": [
    "# optimizer, obj function 설정\n",
    "model = Net().to(DEVICE)\n",
    "optimizer = torch.optim.SGD(model.parameters(), lr = 0.01, momentum=0.5)\n",
    "criterian = nn.CrossEntropyLoss()\n",
    "print(model)"
   ]
  },
  {
   "cell_type": "code",
   "execution_count": 16,
   "metadata": {},
   "outputs": [],
   "source": [
    "# 학습 데이터에 대한 model 성능 확인 함수 정의\n",
    "def train(model, train_loader, optimizer, log_interval):\n",
    "    model.train()\n",
    "    for batch_idx, (image, label) in enumerate(train_loader):\n",
    "        image = image.to(DEVICE)\n",
    "        label = label.to(DEVICE)\n",
    "        optimizer.zero_grad()\n",
    "        output = model(image)\n",
    "        loss = criterian(output,label)\n",
    "        loss.backward()\n",
    "        optimizer.step()\n",
    "\n",
    "        if batch_idx % log_interval == 0:\n",
    "            print(\"Train_epoch : {} [{}/{}({:.0f}%)] \\tTrain Loss : {:.6f}\".format(epochs, batch_idx*len(image),len(train_loader.dataset), 100*batch_idx/len(train_loader), loss.item()))"
   ]
  },
  {
   "cell_type": "code",
   "execution_count": 19,
   "metadata": {},
   "outputs": [],
   "source": [
    "# 검증 데이터에 대한 모델 성능 확인하는 함수 정의\n",
    "def evaluate(model, test_loader):\n",
    "    model.eval()\n",
    "    test_loss = 0\n",
    "    correct = 0\n",
    "    with torch.no_grad():\n",
    "        for image, label in test_loader:\n",
    "            image = image.to(DEVICE)\n",
    "            label = label.to(DEVICE)\n",
    "            output = model(image)\n",
    "            test_loss += criterian(output,label).item()\n",
    "            prediction = output.max(1, keepdim = True)[1]\n",
    "            correct +=prediction.eq(label.view_as(prediction)).sum().item() \n",
    "\n",
    "    test_loss /= len(test_loader.dataset)\n",
    "    test_accuracy = 100 * correct / len(test_loader.dataset)\n",
    "    return test_loss, test_accuracy\n"
   ]
  },
  {
   "cell_type": "code",
   "execution_count": 20,
   "metadata": {},
   "outputs": [
    {
     "name": "stderr",
     "output_type": "stream",
     "text": [
      "/home/seonggye/anaconda3/lib/python3.7/site-packages/torch/nn/functional.py:1960: UserWarning: nn.functional.sigmoid is deprecated. Use torch.sigmoid instead.\n",
      "  warnings.warn(\"nn.functional.sigmoid is deprecated. Use torch.sigmoid instead.\")\n"
     ]
    },
    {
     "name": "stdout",
     "output_type": "stream",
     "text": [
      "Train_epoch : 10 [0/60000(0%)] \tTrain Loss : 2.259018\n",
      "Train_epoch : 10 [6400/60000(11%)] \tTrain Loss : 2.327599\n",
      "Train_epoch : 10 [12800/60000(21%)] \tTrain Loss : 2.296334\n",
      "Train_epoch : 10 [19200/60000(32%)] \tTrain Loss : 2.357299\n",
      "Train_epoch : 10 [25600/60000(43%)] \tTrain Loss : 2.290432\n",
      "Train_epoch : 10 [32000/60000(53%)] \tTrain Loss : 2.335135\n",
      "Train_epoch : 10 [38400/60000(64%)] \tTrain Loss : 2.307302\n",
      "Train_epoch : 10 [44800/60000(75%)] \tTrain Loss : 2.300529\n",
      "Train_epoch : 10 [51200/60000(85%)] \tTrain Loss : 2.251631\n",
      "Train_epoch : 10 [57600/60000(96%)] \tTrain Loss : 2.217779\n",
      "\n",
      "[Epoch: 1], \tTest loss: 0.0694, \tTest acc : 26.63\n",
      "Train_epoch : 10 [0/60000(0%)] \tTrain Loss : 2.196549\n",
      "Train_epoch : 10 [6400/60000(11%)] \tTrain Loss : 2.166552\n",
      "Train_epoch : 10 [12800/60000(21%)] \tTrain Loss : 2.109120\n",
      "Train_epoch : 10 [19200/60000(32%)] \tTrain Loss : 2.026603\n",
      "Train_epoch : 10 [25600/60000(43%)] \tTrain Loss : 2.056266\n",
      "Train_epoch : 10 [32000/60000(53%)] \tTrain Loss : 1.880376\n",
      "Train_epoch : 10 [38400/60000(64%)] \tTrain Loss : 1.602757\n",
      "Train_epoch : 10 [44800/60000(75%)] \tTrain Loss : 1.547887\n",
      "Train_epoch : 10 [51200/60000(85%)] \tTrain Loss : 1.389199\n",
      "Train_epoch : 10 [57600/60000(96%)] \tTrain Loss : 1.487357\n",
      "\n",
      "[Epoch: 2], \tTest loss: 0.0389, \tTest acc : 63.05\n",
      "Train_epoch : 10 [0/60000(0%)] \tTrain Loss : 1.444971\n",
      "Train_epoch : 10 [6400/60000(11%)] \tTrain Loss : 1.112738\n",
      "Train_epoch : 10 [12800/60000(21%)] \tTrain Loss : 1.107676\n",
      "Train_epoch : 10 [19200/60000(32%)] \tTrain Loss : 0.886872\n",
      "Train_epoch : 10 [25600/60000(43%)] \tTrain Loss : 1.012589\n",
      "Train_epoch : 10 [32000/60000(53%)] \tTrain Loss : 0.593803\n",
      "Train_epoch : 10 [38400/60000(64%)] \tTrain Loss : 0.990865\n",
      "Train_epoch : 10 [44800/60000(75%)] \tTrain Loss : 0.835070\n",
      "Train_epoch : 10 [51200/60000(85%)] \tTrain Loss : 0.706410\n",
      "Train_epoch : 10 [57600/60000(96%)] \tTrain Loss : 0.986586\n",
      "\n",
      "[Epoch: 3], \tTest loss: 0.0231, \tTest acc : 78.71\n",
      "Train_epoch : 10 [0/60000(0%)] \tTrain Loss : 0.641975\n",
      "Train_epoch : 10 [6400/60000(11%)] \tTrain Loss : 0.726183\n",
      "Train_epoch : 10 [12800/60000(21%)] \tTrain Loss : 0.750199\n",
      "Train_epoch : 10 [19200/60000(32%)] \tTrain Loss : 0.515142\n",
      "Train_epoch : 10 [25600/60000(43%)] \tTrain Loss : 0.886537\n",
      "Train_epoch : 10 [32000/60000(53%)] \tTrain Loss : 0.627033\n",
      "Train_epoch : 10 [38400/60000(64%)] \tTrain Loss : 1.245528\n",
      "Train_epoch : 10 [44800/60000(75%)] \tTrain Loss : 0.519785\n",
      "Train_epoch : 10 [51200/60000(85%)] \tTrain Loss : 0.316386\n",
      "Train_epoch : 10 [57600/60000(96%)] \tTrain Loss : 0.498862\n",
      "\n",
      "[Epoch: 4], \tTest loss: 0.0171, \tTest acc : 84.09\n",
      "Train_epoch : 10 [0/60000(0%)] \tTrain Loss : 0.584911\n",
      "Train_epoch : 10 [6400/60000(11%)] \tTrain Loss : 0.365215\n",
      "Train_epoch : 10 [12800/60000(21%)] \tTrain Loss : 0.437240\n",
      "Train_epoch : 10 [19200/60000(32%)] \tTrain Loss : 0.478729\n",
      "Train_epoch : 10 [25600/60000(43%)] \tTrain Loss : 0.536274\n",
      "Train_epoch : 10 [32000/60000(53%)] \tTrain Loss : 0.504486\n",
      "Train_epoch : 10 [38400/60000(64%)] \tTrain Loss : 0.318015\n",
      "Train_epoch : 10 [44800/60000(75%)] \tTrain Loss : 0.459436\n",
      "Train_epoch : 10 [51200/60000(85%)] \tTrain Loss : 0.419020\n",
      "Train_epoch : 10 [57600/60000(96%)] \tTrain Loss : 0.767001\n",
      "\n",
      "[Epoch: 5], \tTest loss: 0.0143, \tTest acc : 86.58\n",
      "Train_epoch : 10 [0/60000(0%)] \tTrain Loss : 0.383978\n",
      "Train_epoch : 10 [6400/60000(11%)] \tTrain Loss : 0.580760\n",
      "Train_epoch : 10 [12800/60000(21%)] \tTrain Loss : 0.499435\n",
      "Train_epoch : 10 [19200/60000(32%)] \tTrain Loss : 0.488483\n",
      "Train_epoch : 10 [25600/60000(43%)] \tTrain Loss : 0.300498\n",
      "Train_epoch : 10 [32000/60000(53%)] \tTrain Loss : 0.364229\n",
      "Train_epoch : 10 [38400/60000(64%)] \tTrain Loss : 0.260223\n",
      "Train_epoch : 10 [44800/60000(75%)] \tTrain Loss : 0.437752\n",
      "Train_epoch : 10 [51200/60000(85%)] \tTrain Loss : 0.358346\n",
      "Train_epoch : 10 [57600/60000(96%)] \tTrain Loss : 0.364947\n",
      "\n",
      "[Epoch: 6], \tTest loss: 0.0129, \tTest acc : 88.04\n",
      "Train_epoch : 10 [0/60000(0%)] \tTrain Loss : 0.322155\n",
      "Train_epoch : 10 [6400/60000(11%)] \tTrain Loss : 0.530903\n",
      "Train_epoch : 10 [12800/60000(21%)] \tTrain Loss : 0.554227\n",
      "Train_epoch : 10 [19200/60000(32%)] \tTrain Loss : 0.362486\n",
      "Train_epoch : 10 [25600/60000(43%)] \tTrain Loss : 0.241899\n",
      "Train_epoch : 10 [32000/60000(53%)] \tTrain Loss : 0.492447\n",
      "Train_epoch : 10 [38400/60000(64%)] \tTrain Loss : 0.191820\n",
      "Train_epoch : 10 [44800/60000(75%)] \tTrain Loss : 0.356090\n",
      "Train_epoch : 10 [51200/60000(85%)] \tTrain Loss : 0.356055\n",
      "Train_epoch : 10 [57600/60000(96%)] \tTrain Loss : 0.371956\n",
      "\n",
      "[Epoch: 7], \tTest loss: 0.0119, \tTest acc : 88.83\n",
      "Train_epoch : 10 [0/60000(0%)] \tTrain Loss : 0.121184\n",
      "Train_epoch : 10 [6400/60000(11%)] \tTrain Loss : 0.437847\n",
      "Train_epoch : 10 [12800/60000(21%)] \tTrain Loss : 0.292962\n",
      "Train_epoch : 10 [19200/60000(32%)] \tTrain Loss : 0.213872\n",
      "Train_epoch : 10 [25600/60000(43%)] \tTrain Loss : 0.313432\n",
      "Train_epoch : 10 [32000/60000(53%)] \tTrain Loss : 0.779233\n",
      "Train_epoch : 10 [38400/60000(64%)] \tTrain Loss : 0.206907\n",
      "Train_epoch : 10 [44800/60000(75%)] \tTrain Loss : 0.138637\n",
      "Train_epoch : 10 [51200/60000(85%)] \tTrain Loss : 0.448376\n",
      "Train_epoch : 10 [57600/60000(96%)] \tTrain Loss : 0.595535\n",
      "\n",
      "[Epoch: 8], \tTest loss: 0.0114, \tTest acc : 89.37\n",
      "Train_epoch : 10 [0/60000(0%)] \tTrain Loss : 0.190023\n",
      "Train_epoch : 10 [6400/60000(11%)] \tTrain Loss : 0.412172\n",
      "Train_epoch : 10 [12800/60000(21%)] \tTrain Loss : 0.353397\n",
      "Train_epoch : 10 [19200/60000(32%)] \tTrain Loss : 0.199290\n",
      "Train_epoch : 10 [25600/60000(43%)] \tTrain Loss : 0.316363\n",
      "Train_epoch : 10 [32000/60000(53%)] \tTrain Loss : 0.367348\n",
      "Train_epoch : 10 [38400/60000(64%)] \tTrain Loss : 0.308783\n",
      "Train_epoch : 10 [44800/60000(75%)] \tTrain Loss : 0.134381\n",
      "Train_epoch : 10 [51200/60000(85%)] \tTrain Loss : 0.317005\n",
      "Train_epoch : 10 [57600/60000(96%)] \tTrain Loss : 0.371485\n",
      "\n",
      "[Epoch: 9], \tTest loss: 0.0108, \tTest acc : 89.91\n",
      "Train_epoch : 10 [0/60000(0%)] \tTrain Loss : 0.362129\n",
      "Train_epoch : 10 [6400/60000(11%)] \tTrain Loss : 0.447750\n",
      "Train_epoch : 10 [12800/60000(21%)] \tTrain Loss : 0.366077\n",
      "Train_epoch : 10 [19200/60000(32%)] \tTrain Loss : 0.449991\n",
      "Train_epoch : 10 [25600/60000(43%)] \tTrain Loss : 0.400881\n",
      "Train_epoch : 10 [32000/60000(53%)] \tTrain Loss : 0.213374\n",
      "Train_epoch : 10 [38400/60000(64%)] \tTrain Loss : 0.457589\n",
      "Train_epoch : 10 [44800/60000(75%)] \tTrain Loss : 0.368939\n",
      "Train_epoch : 10 [51200/60000(85%)] \tTrain Loss : 0.585267\n",
      "Train_epoch : 10 [57600/60000(96%)] \tTrain Loss : 0.631027\n",
      "\n",
      "[Epoch: 10], \tTest loss: 0.0105, \tTest acc : 90.30\n"
     ]
    }
   ],
   "source": [
    "# Train, Test 진행\n",
    "for epoch in range(1, epochs+1):\n",
    "    train(model, train_loader, optimizer, log_interval = 200)\n",
    "    test_loss, test_accuracy = evaluate(model, test_loader)\n",
    "    print(\"\\n[Epoch: {}], \\tTest loss: {:.4f}, \\tTest acc : {:.2f}\".format(epoch, test_loss, test_accuracy))"
   ]
  },
  {
   "cell_type": "code",
   "execution_count": null,
   "metadata": {},
   "outputs": [],
   "source": []
  }
 ],
 "metadata": {
  "kernelspec": {
   "display_name": "Python 3.7.0 ('base')",
   "language": "python",
   "name": "python3"
  },
  "language_info": {
   "codemirror_mode": {
    "name": "ipython",
    "version": 3
   },
   "file_extension": ".py",
   "mimetype": "text/x-python",
   "name": "python",
   "nbconvert_exporter": "python",
   "pygments_lexer": "ipython3",
   "version": "3.7.0"
  },
  "orig_nbformat": 4,
  "vscode": {
   "interpreter": {
    "hash": "b45ecbb8e80b355e3deef69ddcdcfb2bbb117fcb11cd7d389b99c49babd160c0"
   }
  }
 },
 "nbformat": 4,
 "nbformat_minor": 2
}
