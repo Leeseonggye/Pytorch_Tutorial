{
 "cells": [
  {
   "cell_type": "code",
   "execution_count": 1,
   "metadata": {},
   "outputs": [
    {
     "name": "stderr",
     "output_type": "stream",
     "text": [
      "/home/seonggye/.local/lib/python3.6/site-packages/tqdm/auto.py:22: TqdmWarning: IProgress not found. Please update jupyter and ipywidgets. See https://ipywidgets.readthedocs.io/en/stable/user_install.html\n",
      "  from .autonotebook import tqdm as notebook_tqdm\n"
     ]
    }
   ],
   "source": [
    "import torch"
   ]
  },
  {
   "cell_type": "code",
   "execution_count": 2,
   "metadata": {},
   "outputs": [
    {
     "data": {
      "text/plain": [
       "True"
      ]
     },
     "execution_count": 2,
     "metadata": {},
     "output_type": "execute_result"
    }
   ],
   "source": [
    "torch.cuda.is_available()"
   ]
  },
  {
   "cell_type": "markdown",
   "metadata": {},
   "source": [
    "## 4.1 Tensor : 데이터를 표현하는 단위"
   ]
  },
  {
   "cell_type": "code",
   "execution_count": 4,
   "metadata": {},
   "outputs": [
    {
     "data": {
      "text/plain": [
       "tensor([1.])"
      ]
     },
     "execution_count": 4,
     "metadata": {},
     "output_type": "execute_result"
    }
   ],
   "source": [
    "# Scalar\n",
    "scalar1 = torch.tensor([1.0])\n",
    "scalar1"
   ]
  },
  {
   "cell_type": "code",
   "execution_count": 5,
   "metadata": {},
   "outputs": [],
   "source": [
    "# Vector\n",
    "vector1 = torch.tensor([1,2,3])\n",
    "vector2 = torch.tensor([2,4,6])"
   ]
  },
  {
   "cell_type": "code",
   "execution_count": 7,
   "metadata": {},
   "outputs": [
    {
     "data": {
      "text/plain": [
       "tensor([0.5000, 0.5000, 0.5000])"
      ]
     },
     "execution_count": 7,
     "metadata": {},
     "output_type": "execute_result"
    }
   ],
   "source": [
    "torch.div(vector1,vector2)"
   ]
  },
  {
   "cell_type": "code",
   "execution_count": 10,
   "metadata": {},
   "outputs": [],
   "source": [
    "# matrix\n",
    "matrix1 = torch.tensor([[1,2],[3,4]])\n",
    "matrix2 = torch.tensor([[5,6],[7,8]])"
   ]
  },
  {
   "cell_type": "code",
   "execution_count": 13,
   "metadata": {},
   "outputs": [
    {
     "data": {
      "text/plain": [
       "tensor([[19, 22],\n",
       "        [43, 50]])"
      ]
     },
     "execution_count": 13,
     "metadata": {},
     "output_type": "execute_result"
    }
   ],
   "source": [
    "torch.matmul(matrix1,matrix2)"
   ]
  },
  {
   "cell_type": "code",
   "execution_count": 14,
   "metadata": {},
   "outputs": [],
   "source": [
    "# tensor -> 2차원 이상의 배열\n",
    "tensor1 = torch.tensor([[[1,2],[3,4]],[[5,6],[7,8]]])\n",
    "tensor2 = torch.tensor([[[9,10],[11,12]],[[13,14],[15,16]]])\n"
   ]
  },
  {
   "cell_type": "code",
   "execution_count": 16,
   "metadata": {},
   "outputs": [
    {
     "data": {
      "text/plain": [
       "tensor([[[  9,  20],\n",
       "         [ 33,  48]],\n",
       "\n",
       "        [[ 65,  84],\n",
       "         [105, 128]]])"
      ]
     },
     "execution_count": 16,
     "metadata": {},
     "output_type": "execute_result"
    }
   ],
   "source": [
    "torch.mul(tensor1,tensor2)"
   ]
  },
  {
   "cell_type": "code",
   "execution_count": 17,
   "metadata": {},
   "outputs": [
    {
     "data": {
      "text/plain": [
       "tensor([[[ 31,  34],\n",
       "         [ 71,  78]],\n",
       "\n",
       "        [[155, 166],\n",
       "         [211, 226]]])"
      ]
     },
     "execution_count": 17,
     "metadata": {},
     "output_type": "execute_result"
    }
   ],
   "source": [
    "torch.matmul(tensor1,tensor2)"
   ]
  },
  {
   "cell_type": "markdown",
   "metadata": {},
   "source": [
    "## 4.2 Autograd -> back propagation을 이용해 파라미터를 업데이트 하는 방법"
   ]
  },
  {
   "cell_type": "code",
   "execution_count": 18,
   "metadata": {},
   "outputs": [],
   "source": [
    "if torch.cuda.is_available():\n",
    "    DEVICE = torch.device('cuda')\n",
    "else:\n",
    "    DEVICE = torch.device('cpu')"
   ]
  },
  {
   "cell_type": "code",
   "execution_count": 21,
   "metadata": {},
   "outputs": [],
   "source": [
    "batch_size = 64\n",
    "input_size = 1000\n",
    "hidden_size = 100\n",
    "output_size =10"
   ]
  },
  {
   "cell_type": "code",
   "execution_count": 26,
   "metadata": {},
   "outputs": [],
   "source": [
    "# input, output, weight 정의\n",
    "x = torch.randn(batch_size,input_size, device=DEVICE, dtype=float, requires_grad=False)\n",
    "y = torch.randn(batch_size,output_size, device=DEVICE, dtype=float, requires_grad=False)\n",
    "w1 = torch.randn(input_size, hidden_size, device=DEVICE, dtype=float, requires_grad=True)\n",
    "w2 = torch.randn(hidden_size, output_size, device=DEVICE, dtype=float, requires_grad=True)"
   ]
  },
  {
   "cell_type": "code",
   "execution_count": 28,
   "metadata": {},
   "outputs": [
    {
     "name": "stdout",
     "output_type": "stream",
     "text": [
      "Iter: 100 \t Loss : tensor(1.4577e-06, device='cuda:0', dtype=torch.float64,\n",
      "       grad_fn=<SumBackward0>)\n",
      "Iter: 200 \t Loss : tensor(3.1005e-08, device='cuda:0', dtype=torch.float64,\n",
      "       grad_fn=<SumBackward0>)\n",
      "Iter: 300 \t Loss : tensor(6.6544e-10, device='cuda:0', dtype=torch.float64,\n",
      "       grad_fn=<SumBackward0>)\n",
      "Iter: 400 \t Loss : tensor(1.4360e-11, device='cuda:0', dtype=torch.float64,\n",
      "       grad_fn=<SumBackward0>)\n",
      "Iter: 500 \t Loss : tensor(3.1094e-13, device='cuda:0', dtype=torch.float64,\n",
      "       grad_fn=<SumBackward0>)\n"
     ]
    }
   ],
   "source": [
    "lr = 1e-6\n",
    "for t in range(1,501):\n",
    "    y_pred = x.mm(w1).clamp(min=0).mm(w2) # clamp는 activation function\n",
    "\n",
    "    loss = (y-y_pred).pow(2).sum() # mse loss\n",
    "    if t%100 ==0:\n",
    "        print(\"Iter:\",t, \"\\t\", \"Loss :\",loss)\n",
    "    \n",
    "    loss.backward()\n",
    "\n",
    "    with torch.no_grad():\n",
    "        w1 -= lr * w1.grad\n",
    "        w2 -= lr * w2.grad\n",
    "\n",
    "        w1.grad.zero_()\n",
    "        w2.grad.zero_()"
   ]
  },
  {
   "cell_type": "code",
   "execution_count": null,
   "metadata": {},
   "outputs": [],
   "source": []
  }
 ],
 "metadata": {
  "kernelspec": {
   "display_name": "Python 3.6.9 64-bit",
   "language": "python",
   "name": "python3"
  },
  "language_info": {
   "codemirror_mode": {
    "name": "ipython",
    "version": 3
   },
   "file_extension": ".py",
   "mimetype": "text/x-python",
   "name": "python",
   "nbconvert_exporter": "python",
   "pygments_lexer": "ipython3",
   "version": "3.8.10"
  },
  "orig_nbformat": 4,
  "vscode": {
   "interpreter": {
    "hash": "31f2aee4e71d21fbe5cf8b01ff0e069b9275f58929596ceb00d14d90e3e16cd6"
   }
  }
 },
 "nbformat": 4,
 "nbformat_minor": 2
}
